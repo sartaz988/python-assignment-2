{
 "cells": [
  {
   "cell_type": "markdown",
   "id": "671234ba-0982-40ef-a033-356741e05f1d",
   "metadata": {},
   "source": [
    " 1. Capitalizes the first character."
   ]
  },
  {
   "cell_type": "code",
   "execution_count": 1,
   "id": "2e83bfc1-455c-472b-8573-6e94212b5de0",
   "metadata": {},
   "outputs": [
    {
     "name": "stdout",
     "output_type": "stream",
     "text": [
      "Hello world\n"
     ]
    }
   ],
   "source": [
    "text = \"hello world\"\n",
    "capitalized_text = text.capitalize()\n",
    "print(capitalized_text)"
   ]
  },
  {
   "cell_type": "markdown",
   "id": "feb549cd-d39a-4dfb-937f-13b94e5f05c6",
   "metadata": {},
   "source": [
    "2. Converts to lowercase (more aggressive than lower())."
   ]
  },
  {
   "cell_type": "code",
   "execution_count": 2,
   "id": "05c2a003-27ce-49a1-9fc2-63bbb94aaa74",
   "metadata": {},
   "outputs": [
    {
     "name": "stdout",
     "output_type": "stream",
     "text": [
      "hello ß ä ö ü\n",
      "hello ss ä ö ü\n"
     ]
    }
   ],
   "source": [
    "text = \"HELLO ß Ä Ö Ü\"\n",
    "print(text.lower())        \n",
    "print(text.casefold())"
   ]
  },
  {
   "cell_type": "markdown",
   "id": "1b2976e2-8551-4180-a61b-7375ac8f1566",
   "metadata": {},
   "source": [
    "3. str.center(width[, fillchar])\n",
    "Centers the string within the specified width."
   ]
  },
  {
   "cell_type": "code",
   "execution_count": 3,
   "id": "649a8756-f3e3-4c3e-9081-6878496392e7",
   "metadata": {},
   "outputs": [
    {
     "name": "stdout",
     "output_type": "stream",
     "text": [
      "  hi  \n",
      "--hi--\n"
     ]
    }
   ],
   "source": [
    "text = \"hi\"\n",
    "print(text.center(6))         \n",
    "print(text.center(6, \"-\"))"
   ]
  },
  {
   "cell_type": "markdown",
   "id": "789a756a-3161-4279-b883-4467f81f9fa0",
   "metadata": {},
   "source": [
    "4. str.count(sub[, start[, end]])\n",
    "Returns the number of non-overlapping occurrences of a substring."
   ]
  },
  {
   "cell_type": "code",
   "execution_count": 4,
   "id": "af44b87f-9b1e-4c70-8eed-c43d1f0e3e75",
   "metadata": {},
   "outputs": [
    {
     "name": "stdout",
     "output_type": "stream",
     "text": [
      "3\n",
      "2\n",
      "2\n"
     ]
    }
   ],
   "source": [
    "text = \"banana\"\n",
    "print(text.count(\"a\"))       \n",
    "print(text.count(\"an\"))      \n",
    "print(text.count(\"a\", 2))"
   ]
  },
  {
   "cell_type": "markdown",
   "id": "712ebe52-929d-451a-b72e-01e042dd1141",
   "metadata": {},
   "source": [
    "5. str.encode(encoding=\"utf-8\", errors=\"strict\")\n",
    "Returns encoded version of the string."
   ]
  },
  {
   "cell_type": "code",
   "execution_count": 5,
   "id": "b72ccd08-9576-433e-94e7-ddeae4051337",
   "metadata": {},
   "outputs": [
    {
     "name": "stdout",
     "output_type": "stream",
     "text": [
      "b'hello'\n"
     ]
    }
   ],
   "source": [
    "text = \"hello\"\n",
    "encoded_text = text.encode()\n",
    "print(encoded_text)  "
   ]
  },
  {
   "cell_type": "markdown",
   "id": "09adc564-41c4-46b2-86ee-a20ffbcdf390",
   "metadata": {},
   "source": [
    "6. str.endswith(suffix[, start[, end]])\n",
    "Returns True if the string ends with the specified suffix."
   ]
  },
  {
   "cell_type": "code",
   "execution_count": 6,
   "id": "f2fa486e-253b-4a1e-ad91-abf532d0e766",
   "metadata": {},
   "outputs": [
    {
     "name": "stdout",
     "output_type": "stream",
     "text": [
      "True\n",
      "False\n",
      "True\n"
     ]
    }
   ],
   "source": [
    "text = \"hello world\"\n",
    "\n",
    "print(text.endswith(\"world\"))       \n",
    "print(text.endswith(\"hello\"))       \n",
    "print(text.endswith(\"lo\", 0, 5))"
   ]
  },
  {
   "cell_type": "markdown",
   "id": "2f63a7d8-25a5-448e-b188-353167238931",
   "metadata": {},
   "source": [
    "7. str.expandtabs(tabsize=8)\n",
    "Replaces tabs with spaces."
   ]
  },
  {
   "cell_type": "code",
   "execution_count": 7,
   "id": "691a68ba-9fb1-4d32-95d3-fea60134e920",
   "metadata": {},
   "outputs": [
    {
     "name": "stdout",
     "output_type": "stream",
     "text": [
      "a       b       c\n",
      "a   b   c\n"
     ]
    }
   ],
   "source": [
    "text = \"a\\tb\\tc\"\n",
    "print(text.expandtabs())       \n",
    "print(text.expandtabs(4))"
   ]
  },
  {
   "cell_type": "markdown",
   "id": "328ebe54-81c3-41d5-8650-d240da0a2d4d",
   "metadata": {},
   "source": [
    "8. str.find(sub[, start[, end]])\n",
    "Returns the lowest index of the substring; returns -1 if not found."
   ]
  },
  {
   "cell_type": "code",
   "execution_count": 8,
   "id": "e63dac10-5bb4-48fe-ab16-6446ad1dcb5e",
   "metadata": {},
   "outputs": [
    {
     "name": "stdout",
     "output_type": "stream",
     "text": [
      "4\n",
      "6\n",
      "-1\n",
      "9\n"
     ]
    }
   ],
   "source": [
    "text = \"hello world\"\n",
    "\n",
    "print(text.find(\"o\"))         \n",
    "print(text.find(\"world\"))  \n",
    "print(text.find(\"x\"))         \n",
    "print(text.find(\"l\", 5))"
   ]
  },
  {
   "cell_type": "markdown",
   "id": "14c0e36c-9afc-4a72-88da-d220eaf369e6",
   "metadata": {},
   "source": [
    "9. str.format(*args, **kwargs)\n",
    "Formats string using the specified arguments."
   ]
  },
  {
   "cell_type": "markdown",
   "id": "fe6f41a0-721b-4297-a050-52d7845df714",
   "metadata": {},
   "source": [
    "#1. Positional formatting:\n"
   ]
  },
  {
   "cell_type": "code",
   "execution_count": 9,
   "id": "260e4bd4-28a1-439a-8135-63560e4359ab",
   "metadata": {},
   "outputs": [
    {
     "name": "stdout",
     "output_type": "stream",
     "text": [
      "My name is Alice and I am 25 years old.\n"
     ]
    }
   ],
   "source": [
    "text = \"My name is {} and I am {} years old.\"\n",
    "print(text.format(\"Alice\", 25))"
   ]
  },
  {
   "cell_type": "markdown",
   "id": "9fea9016-fae5-4e03-846c-4b4e3174146c",
   "metadata": {},
   "source": [
    "#2. Keyword formatting:"
   ]
  },
  {
   "cell_type": "code",
   "execution_count": 10,
   "id": "aa632855-7573-4c52-acf8-aeec49d30d95",
   "metadata": {},
   "outputs": [
    {
     "name": "stdout",
     "output_type": "stream",
     "text": [
      "My name is Bob and I am 30 years old.\n"
     ]
    }
   ],
   "source": [
    "text = \"My name is {name} and I am {age} years old.\"\n",
    "print(text.format(name=\"Bob\", age=30))"
   ]
  },
  {
   "cell_type": "code",
   "execution_count": 11,
   "id": "386958a9-7602-452f-ac65-b1fa1b506721",
   "metadata": {},
   "outputs": [
    {
     "name": "stdout",
     "output_type": "stream",
     "text": [
      "Alice is a coder. Alice loves Python.\n"
     ]
    }
   ],
   "source": [
    "#3. Reusing placeholders:\n",
    "text = \"{0} is {1}. {0} loves Python.\"\n",
    "print(text.format(\"Alice\", \"a coder\"))"
   ]
  },
  {
   "cell_type": "markdown",
   "id": "fddca5c3-773b-44c5-92ff-e1b7b7dc8889",
   "metadata": {},
   "source": [
    "10. str.format_map(mapping)\n",
    "Formats string using a mapping."
   ]
  },
  {
   "cell_type": "code",
   "execution_count": 12,
   "id": "d1f29977-5b03-4e98-87aa-2f0e8a922bd0",
   "metadata": {},
   "outputs": [
    {
     "name": "stdout",
     "output_type": "stream",
     "text": [
      "My name is Alice and I am 25 years old.\n"
     ]
    }
   ],
   "source": [
    "person = {\"name\": \"Alice\", \"age\": 25}\n",
    "text = \"My name is {name} and I am {age} years old.\"\n",
    "\n",
    "print(text.format_map(person))"
   ]
  },
  {
   "cell_type": "markdown",
   "id": "8dd9ee9c-d931-4063-9af3-7cc2783d1c89",
   "metadata": {},
   "source": [
    "11. str.index(sub[, start[, end]])\n",
    "Like find() but raises ValueError if not found."
   ]
  },
  {
   "cell_type": "code",
   "execution_count": 13,
   "id": "1e242476-b0e7-4bc9-9743-efd2823ec364",
   "metadata": {},
   "outputs": [
    {
     "name": "stdout",
     "output_type": "stream",
     "text": [
      "6\n",
      "4\n"
     ]
    }
   ],
   "source": [
    "text = \"hello world\"\n",
    "\n",
    "print(text.index(\"world\"))   \n",
    "print(text.index(\"o\"))"
   ]
  },
  {
   "cell_type": "markdown",
   "id": "9c4cd009-1e13-425b-b680-f38dd55998ec",
   "metadata": {},
   "source": [
    "12. str.isalnum()\n",
    "Returns True if all characters are alphanumeric."
   ]
  },
  {
   "cell_type": "code",
   "execution_count": 14,
   "id": "24ffd37b-641b-4a1a-bcf8-ff653bde9b31",
   "metadata": {},
   "outputs": [
    {
     "name": "stdout",
     "output_type": "stream",
     "text": [
      "True\n",
      "True\n",
      "False\n",
      "False\n",
      "False\n"
     ]
    }
   ],
   "source": [
    "print(\"hello123\".isalnum())   \n",
    "print(\"123\".isalnum())        \n",
    "print(\"hello!\".isalnum())     \n",
    "print(\"hello 123\".isalnum())  \n",
    "print(\"\".isalnum()) "
   ]
  },
  {
   "cell_type": "markdown",
   "id": "9a956523-d156-46c8-972a-0c1744ad5f1e",
   "metadata": {},
   "source": [
    "13. str.isalpha()\n",
    "Returns True if all characters are alphabetic."
   ]
  },
  {
   "cell_type": "code",
   "execution_count": 15,
   "id": "50c47c2c-bb13-4bb9-9ddb-222de953dfaf",
   "metadata": {},
   "outputs": [
    {
     "name": "stdout",
     "output_type": "stream",
     "text": [
      "True\n",
      "True\n",
      "False\n",
      "False\n",
      "False\n"
     ]
    }
   ],
   "source": [
    "print(\"Hello\".isalpha())       \n",
    "print(\"abcXYZ\".isalpha())      \n",
    "print(\"Hello123\".isalpha())    \n",
    "print(\"hello world\".isalpha()) \n",
    "print(\"\".isalpha()) "
   ]
  },
  {
   "cell_type": "markdown",
   "id": "25feb41a-fa35-4f2a-8d8a-c646d93d2eb0",
   "metadata": {},
   "source": [
    "14. str.isascii()\n",
    "Returns True if all characters are ASCII."
   ]
  },
  {
   "cell_type": "code",
   "execution_count": 16,
   "id": "3d6627f2-7b7f-4d12-9516-02ed9b498706",
   "metadata": {},
   "outputs": [
    {
     "name": "stdout",
     "output_type": "stream",
     "text": [
      "True\n",
      "False\n",
      "False\n",
      "True\n"
     ]
    }
   ],
   "source": [
    "print(\"Hello123!\".isascii())     \n",
    "print(\"こんにちは\".isascii())      \n",
    "print(\"café\".isascii())          \n",
    "print(\"\".isascii())"
   ]
  },
  {
   "cell_type": "markdown",
   "id": "601e1ed8-fc3f-4e3a-b6da-7d3a590cdf3e",
   "metadata": {},
   "source": [
    "15. str.isdecimal()\n",
    "Returns True if all characters are decimal characters."
   ]
  },
  {
   "cell_type": "code",
   "execution_count": 17,
   "id": "227b0778-4896-4293-9a78-66633bae36d1",
   "metadata": {},
   "outputs": [
    {
     "name": "stdout",
     "output_type": "stream",
     "text": [
      "True\n",
      "True\n",
      "False\n",
      "False\n",
      "False\n"
     ]
    }
   ],
   "source": [
    "print(\"123\".isdecimal())        \n",
    "print(\"٠١٢٣\".isdecimal())       \n",
    "print(\"123.45\".isdecimal())     \n",
    "print(\"12a3\".isdecimal())       \n",
    "print(\"\".isdecimal()) "
   ]
  },
  {
   "cell_type": "markdown",
   "id": "2dae8013-2c5c-4e21-9b77-4a2c1bf2398f",
   "metadata": {},
   "source": [
    "16. str.isdigit()\n",
    "Returns True if all characters are digits."
   ]
  },
  {
   "cell_type": "code",
   "execution_count": 18,
   "id": "2da4644e-901a-4c9e-8274-c3cd9ec78069",
   "metadata": {},
   "outputs": [
    {
     "name": "stdout",
     "output_type": "stream",
     "text": [
      "True\n",
      "True\n",
      "False\n",
      "False\n",
      "False\n"
     ]
    }
   ],
   "source": [
    "print(\"123\".isdigit())         \n",
    "print(\"²³\".isdigit())          \n",
    "print(\"123.45\".isdigit())      \n",
    "print(\"12a3\".isdigit())        \n",
    "print(\"\".isdigit()) "
   ]
  },
  {
   "cell_type": "markdown",
   "id": "dc53d541-67db-4e9e-aeca-0220e1b6fa64",
   "metadata": {},
   "source": [
    "17. str.isidentifier()\n",
    "Returns True if string is a valid identifier."
   ]
  },
  {
   "cell_type": "code",
   "execution_count": 19,
   "id": "a90092db-eb79-418e-a7d5-f32a8c48437a",
   "metadata": {},
   "outputs": [
    {
     "name": "stdout",
     "output_type": "stream",
     "text": [
      "True\n",
      "True\n",
      "False\n",
      "False\n",
      "True\n"
     ]
    }
   ],
   "source": [
    "print(\"hello\".isidentifier())       \n",
    "print(\"_value123\".isidentifier())   \n",
    "print(\"123abc\".isidentifier())      \n",
    "print(\"hello world\".isidentifier())\n",
    "print(\"for\".isidentifier()) "
   ]
  },
  {
   "cell_type": "markdown",
   "id": "d862ba44-7733-4bac-a0db-b17f7f65f7ad",
   "metadata": {},
   "source": [
    "18. str.islower()\n",
    "Returns True if all characters are lowercase."
   ]
  },
  {
   "cell_type": "code",
   "execution_count": 20,
   "id": "d652c18c-862c-4419-8b72-8ad0396b39d9",
   "metadata": {},
   "outputs": [
    {
     "name": "stdout",
     "output_type": "stream",
     "text": [
      "True\n",
      "True\n",
      "False\n",
      "False\n",
      "False\n"
     ]
    }
   ],
   "source": [
    "print(\"hello\".islower())       \n",
    "print(\"hello123\".islower())    \n",
    "print(\"hello World\".islower()) \n",
    "print(\"123\".islower())         \n",
    "print(\"\".islower())"
   ]
  },
  {
   "cell_type": "markdown",
   "id": "682ed301-cea8-4852-8933-fc06c20cfbee",
   "metadata": {},
   "source": [
    "19. str.isnumeric()\n",
    "Returns True if all characters are numeric."
   ]
  },
  {
   "cell_type": "code",
   "execution_count": 21,
   "id": "3e910c5c-874b-4721-9649-8ad85436dc6f",
   "metadata": {},
   "outputs": [
    {
     "name": "stdout",
     "output_type": "stream",
     "text": [
      "True\n",
      "True\n",
      "True\n",
      "False\n",
      "False\n"
     ]
    }
   ],
   "source": [
    "print(\"123\".isnumeric())       \n",
    "print(\"²³\".isnumeric())        \n",
    "print(\"½\".isnumeric())         \n",
    "print(\"123abc\".isnumeric())    \n",
    "print(\"\".isnumeric()) "
   ]
  },
  {
   "cell_type": "markdown",
   "id": "2a838d21-ca6e-437a-bdf9-7bb14cc77bb4",
   "metadata": {},
   "source": [
    "20. str.isprintable()\n",
    "Returns True if all characters are printable."
   ]
  },
  {
   "cell_type": "code",
   "execution_count": 22,
   "id": "931a52d1-d290-45bf-a0ee-e04bf2dd0a0b",
   "metadata": {},
   "outputs": [
    {
     "name": "stdout",
     "output_type": "stream",
     "text": [
      "True\n",
      "True\n",
      "False\n",
      "True\n"
     ]
    }
   ],
   "source": [
    "print(\"Hello!\".isprintable())      \n",
    "print(\"123$%^\".isprintable())      \n",
    "print(\"Hello\\nWorld\".isprintable())\n",
    "print(\"\".isprintable())"
   ]
  },
  {
   "cell_type": "markdown",
   "id": "2e4c014f-3709-4a51-9c10-1d653c706cf5",
   "metadata": {},
   "source": [
    "21. str.isspace()\n",
    "Returns True if all characters are whitespace."
   ]
  },
  {
   "cell_type": "code",
   "execution_count": 23,
   "id": "a717f075-ec26-4186-bc8f-3c0610ede86d",
   "metadata": {},
   "outputs": [
    {
     "name": "stdout",
     "output_type": "stream",
     "text": [
      "True\n",
      "True\n",
      "False\n",
      "False\n"
     ]
    }
   ],
   "source": [
    "print(\"   \".isspace())        \n",
    "print(\"\\t\\n\".isspace())       \n",
    "print(\" a \".isspace())        \n",
    "print(\"\".isspace())  "
   ]
  },
  {
   "cell_type": "markdown",
   "id": "4fef522d-8442-421d-abbb-1ba5d553e8b9",
   "metadata": {},
   "source": [
    "22. str.istitle()\n",
    "Returns True if the string is titlecased."
   ]
  },
  {
   "cell_type": "code",
   "execution_count": 24,
   "id": "a1c49ef8-127e-4e57-9e26-044e07b3c333",
   "metadata": {},
   "outputs": [
    {
     "name": "stdout",
     "output_type": "stream",
     "text": [
      "True\n",
      "False\n",
      "False\n",
      "False\n"
     ]
    }
   ],
   "source": [
    "print(\"Hello World\".istitle())     \n",
    "print(\"Hello world\".istitle())     \n",
    "print(\"HELLO World\".istitle())     \n",
    "print(\"\".istitle())"
   ]
  },
  {
   "cell_type": "markdown",
   "id": "c4427020-a349-472f-a169-810b18d4bbd5",
   "metadata": {},
   "source": [
    "23. str.isupper()\n",
    "Returns True if all characters are uppercase."
   ]
  },
  {
   "cell_type": "code",
   "execution_count": 25,
   "id": "64d6f646-3850-4d1d-a572-d77ef9803262",
   "metadata": {},
   "outputs": [
    {
     "name": "stdout",
     "output_type": "stream",
     "text": [
      "True\n",
      "True\n",
      "False\n",
      "False\n",
      "False\n"
     ]
    }
   ],
   "source": [
    "print(\"HELLO\".isupper())        \n",
    "print(\"HELLO123\".isupper())     \n",
    "print(\"Hello\".isupper())        \n",
    "print(\"123\".isupper())          \n",
    "print(\"\".isupper())"
   ]
  },
  {
   "cell_type": "markdown",
   "id": "ae0cf909-4e39-48c2-9d91-e117d0c77c87",
   "metadata": {},
   "source": [
    "24. str.join(iterable)\n",
    "Joins elements of an iterable with the string as a separator."
   ]
  },
  {
   "cell_type": "code",
   "execution_count": 26,
   "id": "0b908306-891d-4701-9fa3-7dd191ae0dfa",
   "metadata": {},
   "outputs": [
    {
     "name": "stdout",
     "output_type": "stream",
     "text": [
      "Hello world\n",
      "Alice, Bob, Eve\n",
      "A-B-C\n"
     ]
    }
   ],
   "source": [
    "words = [\"Hello\", \"world\"]\n",
    "print(\" \".join(words))       \n",
    "\n",
    "names = [\"Alice\", \"Bob\", \"Eve\"]\n",
    "print(\", \".join(names))      \n",
    "\n",
    "print(\"-\".join(\"ABC\"))       "
   ]
  },
  {
   "cell_type": "markdown",
   "id": "a921b5d0-de3e-4d62-a5a2-3613a7d6b1f2",
   "metadata": {},
   "source": [
    "25. str.ljust(width[, fillchar])\n",
    "Left-justifies the string."
   ]
  },
  {
   "cell_type": "code",
   "execution_count": 27,
   "id": "d1768a6c-99f6-43fd-bcef-fe1a2d7f8445",
   "metadata": {},
   "outputs": [
    {
     "name": "stdout",
     "output_type": "stream",
     "text": [
      "hello world\n",
      "hello world\n",
      "hello world\n"
     ]
    }
   ],
   "source": [
    "print(text.ljust(6))          \n",
    "print(text.ljust(6, '-'))     \n",
    "print(text.ljust(2))    "
   ]
  },
  {
   "cell_type": "markdown",
   "id": "b6a7b525-de4c-4d0c-9883-9ce778c24ef8",
   "metadata": {},
   "source": [
    "26. str.lower()\n",
    "Converts to lowercase."
   ]
  },
  {
   "cell_type": "code",
   "execution_count": 29,
   "id": "195d8800-2990-4027-9c08-26b84d834da0",
   "metadata": {},
   "outputs": [
    {
     "name": "stdout",
     "output_type": "stream",
     "text": [
      "hello\n",
      "hello world!\n",
      "123 abc\n"
     ]
    }
   ],
   "source": [
    "print(\"HELLO\".lower())         \n",
    "print(\"Hello World!\".lower())  \n",
    "print(\"123 ABC\".lower())"
   ]
  },
  {
   "cell_type": "markdown",
   "id": "865e6164-7434-41d4-9947-b282b47fc0bc",
   "metadata": {},
   "source": [
    "27. str.lstrip([chars])\n",
    "Removes leading characters (default: whitespace)."
   ]
  },
  {
   "cell_type": "code",
   "execution_count": 30,
   "id": "921b6484-ad27-4099-84ba-5d43b8d9acfb",
   "metadata": {},
   "outputs": [
    {
     "name": "stdout",
     "output_type": "stream",
     "text": [
      "hello\n",
      "price\n",
      "abc\n",
      "hi\n"
     ]
    }
   ],
   "source": [
    "print(\"   hello\".lstrip())          \n",
    "print(\"$$$price\".lstrip(\"$\"))      \n",
    "print(\"123abc\".lstrip(\"123\"))     \n",
    "print(\"  \\t\\nhi\".lstrip())"
   ]
  },
  {
   "cell_type": "markdown",
   "id": "589027cb-b50a-4d88-9000-84b66b995fb5",
   "metadata": {},
   "source": [
    "28. str.maketrans(x, y=None, z=None)\n",
    "Returns a translation table."
   ]
  },
  {
   "cell_type": "code",
   "execution_count": 33,
   "id": "494663cf-df9e-48f7-8d37-b644eb12f29a",
   "metadata": {},
   "outputs": [
    {
     "name": "stdout",
     "output_type": "stream",
     "text": [
      "123123\n"
     ]
    }
   ],
   "source": [
    "# Example 1: Replace letters\n",
    "table = str.maketrans(\"abc\", \"123\")\n",
    "print(\"abcabc\".translate(table)) \n"
   ]
  },
  {
   "cell_type": "code",
   "execution_count": 34,
   "id": "258071f2-5548-49b4-bd79-cb8d57a7f6f8",
   "metadata": {},
   "outputs": [
    {
     "name": "stdout",
     "output_type": "stream",
     "text": [
      "btfl\n"
     ]
    }
   ],
   "source": [
    "#Example 2: Delete letters\n",
    "table = str.maketrans(\"\", \"\", \"aeiou\")\n",
    "print(\"beautiful\".translate(table)) "
   ]
  },
  {
   "cell_type": "code",
   "execution_count": 35,
   "id": "65dc4da0-d460-42f0-b253-52bd34024ee4",
   "metadata": {},
   "outputs": [
    {
     "name": "stdout",
     "output_type": "stream",
     "text": [
      "abCD\n"
     ]
    }
   ],
   "source": [
    "#Example 3: Using a dictionary\n",
    "table = str.maketrans({65: 97, 66: 98})  # A→a, B→b\n",
    "print(\"ABCD\".translate(table))"
   ]
  },
  {
   "cell_type": "markdown",
   "id": "39809734-8d91-49c6-8019-26d6b9d9e9fa",
   "metadata": {},
   "source": [
    "29. str.partition(sep)\n",
    "Splits the string at the first occurrence of sep."
   ]
  },
  {
   "cell_type": "code",
   "execution_count": 36,
   "id": "cbfec4a3-623c-41e3-b424-32c06bfdab86",
   "metadata": {},
   "outputs": [
    {
     "name": "stdout",
     "output_type": "stream",
     "text": [
      "('hello', '=', 'world')\n"
     ]
    }
   ],
   "source": [
    "text = \"hello=world\"\n",
    "print(text.partition(\"=\"))  "
   ]
  },
  {
   "cell_type": "markdown",
   "id": "26b8c82a-3787-483a-aa1b-119196bb0dd7",
   "metadata": {},
   "source": [
    "30. str.removeprefix(prefix)\n",
    "Removes the specified prefix if present."
   ]
  },
  {
   "cell_type": "code",
   "execution_count": 37,
   "id": "a75c4d49-d1ef-4869-a729-c20e7bccb0b5",
   "metadata": {},
   "outputs": [
    {
     "name": "stdout",
     "output_type": "stream",
     "text": [
      "happy\n",
      "llo\n",
      "world\n"
     ]
    }
   ],
   "source": [
    "print(\"unhappy\".removeprefix(\"un\"))     \n",
    "print(\"hello\".removeprefix(\"he\"))       \n",
    "print(\"world\".removeprefix(\"test\"))"
   ]
  },
  {
   "cell_type": "markdown",
   "id": "2ac5b040-0a9a-4387-bd34-06f0caa8e26b",
   "metadata": {},
   "source": [
    "31. str.removesuffix(suffix)\n",
    "Removes the specified suffix if present."
   ]
  },
  {
   "cell_type": "code",
   "execution_count": 38,
   "id": "122e85ee-d6c1-4a35-8050-57b4f5c75597",
   "metadata": {},
   "outputs": [
    {
     "name": "stdout",
     "output_type": "stream",
     "text": [
      "filename\n",
      "hel\n",
      "world\n"
     ]
    }
   ],
   "source": [
    "print(\"filename.txt\".removesuffix(\".txt\"))   \n",
    "print(\"hello\".removesuffix(\"lo\"))            \n",
    "print(\"world\".removesuffix(\"test\"))"
   ]
  },
  {
   "cell_type": "markdown",
   "id": "dcf73651-b753-46ba-8acd-73e95802bc2f",
   "metadata": {},
   "source": [
    "32. str.replace(old, new[, count])\n",
    "Returns a copy with all occurrences of a substring replaced."
   ]
  },
  {
   "cell_type": "code",
   "execution_count": 39,
   "id": "5e7aecfd-8361-4bf9-afdb-ece7cbe45a88",
   "metadata": {},
   "outputs": [
    {
     "name": "stdout",
     "output_type": "stream",
     "text": [
      "banana banana banana\n",
      "banana banana apple\n"
     ]
    }
   ],
   "source": [
    "text = \"apple apple apple\"\n",
    "\n",
    "print(text.replace(\"apple\", \"banana\"))\n",
    "\n",
    "\n",
    "print(text.replace(\"apple\", \"banana\", 2))\n"
   ]
  },
  {
   "cell_type": "markdown",
   "id": "1147d188-cf7d-48c9-84d9-4e37f304b7a9",
   "metadata": {},
   "source": [
    "33. str.rfind(sub[, start[, end]])\n",
    "Returns the highest index of the substring."
   ]
  },
  {
   "cell_type": "code",
   "execution_count": 40,
   "id": "1ceda08b-b22a-4cce-85e0-bbbd68d59c97",
   "metadata": {},
   "outputs": [
    {
     "name": "stdout",
     "output_type": "stream",
     "text": [
      "9\n",
      "6\n",
      "-1\n"
     ]
    }
   ],
   "source": [
    "text = \"hello hello\"\n",
    "\n",
    "print(text.rfind(\"lo\"))      \n",
    "print(text.rfind(\"he\"))      \n",
    "print(text.rfind(\"x\"))"
   ]
  },
  {
   "cell_type": "markdown",
   "id": "45267abb-3fa9-4ac7-ab27-e18ab763ee80",
   "metadata": {},
   "source": [
    "34. str.rindex(sub[, start[, end]])\n",
    "Like rfind() but raises ValueError if not found."
   ]
  },
  {
   "cell_type": "code",
   "execution_count": 41,
   "id": "18228713-3dfa-4afe-877a-998362fe83bd",
   "metadata": {},
   "outputs": [
    {
     "name": "stdout",
     "output_type": "stream",
     "text": [
      "9\n",
      "6\n"
     ]
    }
   ],
   "source": [
    "text = \"hello hello\"\n",
    "\n",
    "print(text.rindex(\"lo\"))    \n",
    "print(text.rindex(\"he\"))"
   ]
  },
  {
   "cell_type": "markdown",
   "id": "1d7b3e39-a7c1-4ba0-830e-b0748106f291",
   "metadata": {},
   "source": [
    "35. str.rjust(width[, fillchar])\n",
    "Right-justifies the string."
   ]
  },
  {
   "cell_type": "code",
   "execution_count": 42,
   "id": "a5bc3ecc-aad0-44aa-b933-a9335c15ee61",
   "metadata": {},
   "outputs": [
    {
     "name": "stdout",
     "output_type": "stream",
     "text": [
      "    hi\n",
      "----hi\n",
      "hi\n"
     ]
    }
   ],
   "source": [
    "text = \"hi\"\n",
    "\n",
    "print(text.rjust(6))         \n",
    "print(text.rjust(6, '-'))    \n",
    "print(text.rjust(2))    "
   ]
  },
  {
   "cell_type": "markdown",
   "id": "61e68669-4314-4a20-adef-f7304c631c76",
   "metadata": {},
   "source": [
    "36. str.rsplit(sep=None, maxsplit=-1)\n",
    "Splits the string from the right."
   ]
  },
  {
   "cell_type": "code",
   "execution_count": 43,
   "id": "82e21e00-892a-43e1-bc2f-713557b37777",
   "metadata": {},
   "outputs": [
    {
     "name": "stdout",
     "output_type": "stream",
     "text": [
      "['a,b', 'c', 'd']\n"
     ]
    }
   ],
   "source": [
    "text = \"a,b,c,d\"\n",
    "print(text.rsplit(\",\", 2))    "
   ]
  },
  {
   "cell_type": "markdown",
   "id": "dd7b8ea0-e27a-4c90-8db4-37ccf035940e",
   "metadata": {},
   "source": [
    "37. str.rstrip([chars])\n",
    "Removes trailing characters (default: whitespace)."
   ]
  },
  {
   "cell_type": "code",
   "execution_count": 44,
   "id": "6ccf7c74-1676-4bc1-8e36-a66cdcb40cd2",
   "metadata": {},
   "outputs": [
    {
     "name": "stdout",
     "output_type": "stream",
     "text": [
      "hello\n",
      "banana\n",
      "abc\n",
      "hi\n"
     ]
    }
   ],
   "source": [
    "print(\"hello   \".rstrip())         \n",
    "print(\"banana!!!\".rstrip(\"!\"))     \n",
    "print(\"abc123\".rstrip(\"123\"))      \n",
    "print(\"hi\\t\\n\".rstrip()) "
   ]
  },
  {
   "cell_type": "markdown",
   "id": "d76c68f3-c057-447f-98e8-925af314dc23",
   "metadata": {},
   "source": [
    "38. str.split(sep=None, maxsplit=-1)\n",
    "Splits the string."
   ]
  },
  {
   "cell_type": "code",
   "execution_count": 45,
   "id": "b2710d42-1c2b-4a52-919b-7cf721b16529",
   "metadata": {},
   "outputs": [
    {
     "name": "stdout",
     "output_type": "stream",
     "text": [
      "['one', 'two', 'three']\n"
     ]
    }
   ],
   "source": [
    "#1. Split by space (default):\n",
    "text = \"one two three\"\n",
    "print(text.split()) "
   ]
  },
  {
   "cell_type": "code",
   "execution_count": 46,
   "id": "d5dc1497-6e66-48fe-a94a-ac2a88fc9f3a",
   "metadata": {},
   "outputs": [
    {
     "name": "stdout",
     "output_type": "stream",
     "text": [
      "['a', 'b', 'c', 'd']\n"
     ]
    }
   ],
   "source": [
    "#2. Split by comma:\n",
    "text = \"a,b,c,d\"\n",
    "print(text.split(\",\")) "
   ]
  },
  {
   "cell_type": "code",
   "execution_count": 47,
   "id": "77b9c05d-23df-4cd5-8c75-c692a4a191b7",
   "metadata": {},
   "outputs": [
    {
     "name": "stdout",
     "output_type": "stream",
     "text": [
      "['apple', 'orange-banana']\n"
     ]
    }
   ],
   "source": [
    "#3. Limit number of splits:\n",
    "text = \"apple-orange-banana\"\n",
    "print(text.split(\"-\", 1))  "
   ]
  },
  {
   "cell_type": "markdown",
   "id": "a5a344fa-7513-4492-85eb-302870f11096",
   "metadata": {},
   "source": [
    "39. str.splitlines([keepends])\n",
    "Splits at line breaks."
   ]
  },
  {
   "cell_type": "code",
   "execution_count": 48,
   "id": "ca373ba2-f501-45e9-afeb-a82feae62227",
   "metadata": {},
   "outputs": [
    {
     "name": "stdout",
     "output_type": "stream",
     "text": [
      "['Line1', 'Line2', 'Line3']\n"
     ]
    }
   ],
   "source": [
    "text = \"Line1\\nLine2\\nLine3\"\n",
    "print(text.splitlines())"
   ]
  },
  {
   "cell_type": "markdown",
   "id": "880ec609-c3b0-4953-b6e2-eae6e6d0ced1",
   "metadata": {},
   "source": [
    "40. str.startswith(prefix[, start[, end]])\n",
    "Returns True if the string starts with the prefix."
   ]
  },
  {
   "cell_type": "code",
   "execution_count": 49,
   "id": "9ed99da3-e87e-41f4-a854-bd125815a894",
   "metadata": {},
   "outputs": [
    {
     "name": "stdout",
     "output_type": "stream",
     "text": [
      "False\n",
      "False\n",
      "False\n"
     ]
    }
   ],
   "source": [
    "print(text.startswith(\"hello\"))       \n",
    "print(text.startswith(\"world\"))       \n",
    "print(text.startswith(\"world\", 6))"
   ]
  },
  {
   "cell_type": "markdown",
   "id": "587fd7a4-e426-42b5-8112-47fdd5acaf4d",
   "metadata": {},
   "source": [
    "41. str.strip([chars])\n",
    "Removes leading and trailing characters."
   ]
  },
  {
   "cell_type": "code",
   "execution_count": 50,
   "id": "b27df69b-5a8f-4684-ab0b-9f61161cca9d",
   "metadata": {},
   "outputs": [
    {
     "name": "stdout",
     "output_type": "stream",
     "text": [
      "hello\n",
      "hello\n"
     ]
    }
   ],
   "source": [
    "print(\"...hello...\".strip(\".\"))  \n",
    "print(\"xyhelloxy\".strip(\"xy\")) "
   ]
  },
  {
   "cell_type": "markdown",
   "id": "3ac322ac-a412-41b7-89d5-1732723db95c",
   "metadata": {},
   "source": [
    "42. str.swapcase()\n",
    "Swaps case of all characters."
   ]
  },
  {
   "cell_type": "code",
   "execution_count": 51,
   "id": "ca3bca00-d467-475f-9b85-428e6162de4d",
   "metadata": {},
   "outputs": [
    {
     "name": "stdout",
     "output_type": "stream",
     "text": [
      "hELLO wORLD\n",
      "pYthON123\n",
      "123$#@\n"
     ]
    }
   ],
   "source": [
    "print(\"Hello World\".swapcase())    \n",
    "print(\"PyTHon123\".swapcase())      \n",
    "print(\"123$#@\".swapcase())  "
   ]
  },
  {
   "cell_type": "markdown",
   "id": "cc437193-fd75-42db-98fa-1f89351883af",
   "metadata": {},
   "source": [
    "43. str.title()\n",
    "Returns a titlecased version of the string."
   ]
  },
  {
   "cell_type": "code",
   "execution_count": 52,
   "id": "b63e5921-2250-492e-a591-c02dcb1acbb8",
   "metadata": {},
   "outputs": [
    {
     "name": "stdout",
     "output_type": "stream",
     "text": [
      "Hello World\n",
      "Python Is Fun\n",
      "123 Hello\n"
     ]
    }
   ],
   "source": [
    "print(\"hello world\".title())         \n",
    "print(\"pYtHoN is fUn\".title())      \n",
    "print(\"123 hello\".title())   "
   ]
  },
  {
   "cell_type": "markdown",
   "id": "c6f7c6a4-56cd-47bd-9b61-e8844adb96b9",
   "metadata": {},
   "source": [
    "44. str.translate(table)\n",
    "Returns a translated string."
   ]
  },
  {
   "cell_type": "code",
   "execution_count": 53,
   "id": "a82bc06c-69fc-4263-b632-27588efdbb86",
   "metadata": {},
   "outputs": [
    {
     "name": "stdout",
     "output_type": "stream",
     "text": [
      "1 31t 1nd 1 21t\n"
     ]
    }
   ],
   "source": [
    "table = str.maketrans(\"abc\", \"123\")\n",
    "print(\"a cat and a bat\".translate(table))"
   ]
  },
  {
   "cell_type": "markdown",
   "id": "feb6f192-94c2-4073-b831-f3457c582094",
   "metadata": {},
   "source": [
    "45. str.upper()\n",
    "Converts all characters to uppercase."
   ]
  },
  {
   "cell_type": "code",
   "execution_count": 54,
   "id": "c1785c75-432b-4d68-83c7-ebfcd89379e8",
   "metadata": {},
   "outputs": [
    {
     "name": "stdout",
     "output_type": "stream",
     "text": [
      "HELLO\n",
      "PYTHON 3.10\n",
      "123$\n"
     ]
    }
   ],
   "source": [
    "print(\"hello\".upper())          \n",
    "print(\"Python 3.10\".upper())    \n",
    "print(\"123$\".upper())      "
   ]
  },
  {
   "cell_type": "markdown",
   "id": "c5e467bd-7fb2-4eb2-8d56-ce8189149a1d",
   "metadata": {},
   "source": [
    "46. str.zfill(width)\n",
    "Pads the string on the left with zeros."
   ]
  },
  {
   "cell_type": "code",
   "execution_count": 55,
   "id": "2cf2635d-f359-4cc8-8b69-c96d8a6a069a",
   "metadata": {},
   "outputs": [
    {
     "name": "stdout",
     "output_type": "stream",
     "text": [
      "00042\n",
      "-0042\n",
      "00000hello\n"
     ]
    }
   ],
   "source": [
    "print(\"42\".zfill(5))       \n",
    "print(\"-42\".zfill(5))      \n",
    "print(\"hello\".zfill(10))   "
   ]
  },
  {
   "cell_type": "code",
   "execution_count": null,
   "id": "9ab3a978-d938-4a8b-a353-f743758317ac",
   "metadata": {},
   "outputs": [],
   "source": []
  }
 ],
 "metadata": {
  "kernelspec": {
   "display_name": "Python 3 (ipykernel)",
   "language": "python",
   "name": "python3"
  },
  "language_info": {
   "codemirror_mode": {
    "name": "ipython",
    "version": 3
   },
   "file_extension": ".py",
   "mimetype": "text/x-python",
   "name": "python",
   "nbconvert_exporter": "python",
   "pygments_lexer": "ipython3",
   "version": "3.10.0"
  }
 },
 "nbformat": 4,
 "nbformat_minor": 5
}
